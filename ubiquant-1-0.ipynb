{
 "cells": [
  {
   "cell_type": "code",
   "execution_count": 1,
   "id": "03babf27",
   "metadata": {
    "_cell_guid": "b1076dfc-b9ad-4769-8c92-a6c4dae69d19",
    "_uuid": "8f2839f25d086af736a60e9eeb907d3b93b6e0e5",
    "execution": {
     "iopub.execute_input": "2022-02-02T20:46:14.138410Z",
     "iopub.status.busy": "2022-02-02T20:46:14.137743Z",
     "iopub.status.idle": "2022-02-02T20:46:15.349885Z",
     "shell.execute_reply": "2022-02-02T20:46:15.348911Z",
     "shell.execute_reply.started": "2022-02-02T20:42:32.559052Z"
    },
    "papermill": {
     "duration": 1.235037,
     "end_time": "2022-02-02T20:46:15.350115",
     "exception": false,
     "start_time": "2022-02-02T20:46:14.115078",
     "status": "completed"
    },
    "tags": []
   },
   "outputs": [],
   "source": [
    "# This Python 3 environment comes with many helpful analytics libraries installed\n",
    "# It is defined by the kaggle/python Docker image: https://github.com/kaggle/docker-python\n",
    "# For example, here's several helpful packages to load\n",
    "\n",
    "import numpy as np # linear algebra\n",
    "import pandas as pd # data processing, CSV file I/O (e.g. pd.read_csv)\n",
    "import matplotlib\n",
    "import matplotlib.pyplot as plt\n",
    "import seaborn as sns\n",
    "import os\n",
    "import gc\n",
    "\n",
    "%matplotlib inline\n",
    "\n",
    "pd.set_option('display.max_rows', 304)\n",
    "\n",
    "# Input data files are available in the read-only \"../input/\" directory\n",
    "# For example, running this (by clicking run or pressing Shift+Enter) will list all files under the input directory\n",
    "\n",
    "\n",
    "# You can write up to 20GB to the current directory (/kaggle/working/) that gets preserved as output when you create a version using \"Save & Run All\" \n",
    "# You can also write temporary files to /kaggle/temp/, but they won't be saved outside of the current session"
   ]
  },
  {
   "cell_type": "markdown",
   "id": "f03372f9",
   "metadata": {
    "papermill": {
     "duration": 0.018942,
     "end_time": "2022-02-02T20:46:15.391130",
     "exception": false,
     "start_time": "2022-02-02T20:46:15.372188",
     "status": "completed"
    },
    "tags": []
   },
   "source": [
    "Some notes/ideas from EDA:\n",
    "* Looks like missing values were replaced with 0 (including in target!).\n",
    "* Lag features? Feature for number of time_ids since this investment_id started? Lag of target itself?\n",
    "* Note: if doing lag features, will need to be careful to combine test data with train data in order to make sure lag features are included.\n",
    "* All features are scaled already (including target) - roughly mean of 0 and standard deviation 1. However, many features are bimodal, or skewed.\n",
    "* All features have low correlation with target, but there are some that correlate with each other.\n",
    "* Initial validation: time-based\n",
    "* Validation goal: want validation score to be similar to leaderboard score"
   ]
  },
  {
   "cell_type": "code",
   "execution_count": 2,
   "id": "08bc7a73",
   "metadata": {
    "execution": {
     "iopub.execute_input": "2022-02-02T20:46:15.423650Z",
     "iopub.status.busy": "2022-02-02T20:46:15.422420Z",
     "iopub.status.idle": "2022-02-02T20:46:55.633360Z",
     "shell.execute_reply": "2022-02-02T20:46:55.634496Z",
     "shell.execute_reply.started": "2022-02-02T20:42:32.569051Z"
    },
    "papermill": {
     "duration": 40.228848,
     "end_time": "2022-02-02T20:46:55.634731",
     "exception": false,
     "start_time": "2022-02-02T20:46:15.405883",
     "status": "completed"
    },
    "tags": []
   },
   "outputs": [],
   "source": [
    "df = pd.read_parquet(\"../input/ubiquant-parquet/train_low_mem.parquet\")"
   ]
  },
  {
   "cell_type": "code",
   "execution_count": 3,
   "id": "cabb6dbb",
   "metadata": {
    "execution": {
     "iopub.execute_input": "2022-02-02T20:46:55.665417Z",
     "iopub.status.busy": "2022-02-02T20:46:55.664555Z",
     "iopub.status.idle": "2022-02-02T20:46:55.666122Z",
     "shell.execute_reply": "2022-02-02T20:46:55.666607Z",
     "shell.execute_reply.started": "2022-01-31T20:07:03.330462Z"
    },
    "papermill": {
     "duration": 0.018883,
     "end_time": "2022-02-02T20:46:55.666807",
     "exception": false,
     "start_time": "2022-02-02T20:46:55.647924",
     "status": "completed"
    },
    "tags": []
   },
   "outputs": [],
   "source": [
    "# for now, just use a sub-sample to do some exploration\n",
    "#df = df.sample(frac=0.05, random_state=26)"
   ]
  },
  {
   "cell_type": "markdown",
   "id": "02b6a9b7",
   "metadata": {
    "papermill": {
     "duration": 0.011867,
     "end_time": "2022-02-02T20:46:55.691001",
     "exception": false,
     "start_time": "2022-02-02T20:46:55.679134",
     "status": "completed"
    },
    "tags": []
   },
   "source": [
    "# Validation Set"
   ]
  },
  {
   "cell_type": "markdown",
   "id": "e93b97d7",
   "metadata": {
    "papermill": {
     "duration": 0.011828,
     "end_time": "2022-02-02T20:46:55.715061",
     "exception": false,
     "start_time": "2022-02-02T20:46:55.703233",
     "status": "completed"
    },
    "tags": []
   },
   "source": [
    "Initial strategy will be to hold out the highest ~25% of data in terms of time_id as a validation set"
   ]
  },
  {
   "cell_type": "code",
   "execution_count": 4,
   "id": "a6fbd2b4",
   "metadata": {
    "execution": {
     "iopub.execute_input": "2022-02-02T20:46:55.743727Z",
     "iopub.status.busy": "2022-02-02T20:46:55.742916Z",
     "iopub.status.idle": "2022-02-02T20:47:02.989637Z",
     "shell.execute_reply": "2022-02-02T20:47:02.988736Z",
     "shell.execute_reply.started": "2022-02-02T20:42:40.093622Z"
    },
    "papermill": {
     "duration": 7.26244,
     "end_time": "2022-02-02T20:47:02.989818",
     "exception": false,
     "start_time": "2022-02-02T20:46:55.727378",
     "status": "completed"
    },
    "tags": []
   },
   "outputs": [],
   "source": [
    "features = ['f_'+str(i) for i in range(300)]\n",
    "val_time_cutoff=975\n",
    "X_train = df.loc[df['time_id']<=val_time_cutoff, features].values\n",
    "Y_train = df.loc[df['time_id']<=val_time_cutoff, 'target'].values\n",
    "X_val = df.loc[df['time_id']>val_time_cutoff, features].values\n",
    "Y_val = df.loc[df['time_id']>val_time_cutoff, 'target'].values"
   ]
  },
  {
   "cell_type": "code",
   "execution_count": 5,
   "id": "00be6bdf",
   "metadata": {
    "execution": {
     "iopub.execute_input": "2022-02-02T20:47:03.020265Z",
     "iopub.status.busy": "2022-02-02T20:47:03.019187Z",
     "iopub.status.idle": "2022-02-02T20:47:03.313563Z",
     "shell.execute_reply": "2022-02-02T20:47:03.314101Z",
     "shell.execute_reply.started": "2022-02-02T20:42:45.695725Z"
    },
    "papermill": {
     "duration": 0.311386,
     "end_time": "2022-02-02T20:47:03.314309",
     "exception": false,
     "start_time": "2022-02-02T20:47:03.002923",
     "status": "completed"
    },
    "tags": []
   },
   "outputs": [
    {
     "data": {
      "text/plain": [
       "25"
      ]
     },
     "execution_count": 5,
     "metadata": {},
     "output_type": "execute_result"
    }
   ],
   "source": [
    "del df\n",
    "gc.collect()"
   ]
  },
  {
   "cell_type": "markdown",
   "id": "5745621d",
   "metadata": {
    "papermill": {
     "duration": 0.012298,
     "end_time": "2022-02-02T20:47:03.339630",
     "exception": false,
     "start_time": "2022-02-02T20:47:03.327332",
     "status": "completed"
    },
    "tags": []
   },
   "source": [
    "# Training"
   ]
  },
  {
   "cell_type": "code",
   "execution_count": 6,
   "id": "4509dcd0",
   "metadata": {
    "execution": {
     "iopub.execute_input": "2022-02-02T20:47:03.371558Z",
     "iopub.status.busy": "2022-02-02T20:47:03.370536Z",
     "iopub.status.idle": "2022-02-02T20:47:03.878184Z",
     "shell.execute_reply": "2022-02-02T20:47:03.878754Z",
     "shell.execute_reply.started": "2022-02-02T20:42:53.556423Z"
    },
    "papermill": {
     "duration": 0.526581,
     "end_time": "2022-02-02T20:47:03.878973",
     "exception": false,
     "start_time": "2022-02-02T20:47:03.352392",
     "status": "completed"
    },
    "tags": []
   },
   "outputs": [],
   "source": [
    "from sklearn.linear_model import SGDRegressor\n",
    "from scipy.stats import pearsonr\n",
    "import random"
   ]
  },
  {
   "cell_type": "code",
   "execution_count": 7,
   "id": "b5b43b13",
   "metadata": {
    "execution": {
     "iopub.execute_input": "2022-02-02T20:47:03.911115Z",
     "iopub.status.busy": "2022-02-02T20:47:03.910343Z",
     "iopub.status.idle": "2022-02-02T20:48:17.836517Z",
     "shell.execute_reply": "2022-02-02T20:48:17.837515Z",
     "shell.execute_reply.started": "2022-02-02T20:37:35.174451Z"
    },
    "papermill": {
     "duration": 73.946009,
     "end_time": "2022-02-02T20:48:17.837887",
     "exception": false,
     "start_time": "2022-02-02T20:47:03.891878",
     "status": "completed"
    },
    "tags": []
   },
   "outputs": [
    {
     "name": "stdout",
     "output_type": "stream",
     "text": [
      "Validation Pearson r: 0.08100226457954703\n"
     ]
    }
   ],
   "source": [
    "lr = SGDRegressor()\n",
    "lr.fit(X_train, Y_train)\n",
    "print ('Validation Pearson r: {}'.format(str(pearsonr(lr.predict(X_val), Y_val)[0])))"
   ]
  },
  {
   "cell_type": "markdown",
   "id": "7553ca84",
   "metadata": {
    "papermill": {
     "duration": 0.022893,
     "end_time": "2022-02-02T20:48:17.884115",
     "exception": false,
     "start_time": "2022-02-02T20:48:17.861222",
     "status": "completed"
    },
    "tags": []
   },
   "source": [
    "# Final Train on Train+Val"
   ]
  },
  {
   "cell_type": "code",
   "execution_count": 8,
   "id": "4c081db0",
   "metadata": {
    "execution": {
     "iopub.execute_input": "2022-02-02T20:48:17.933038Z",
     "iopub.status.busy": "2022-02-02T20:48:17.931819Z",
     "iopub.status.idle": "2022-02-02T20:48:20.221852Z",
     "shell.execute_reply": "2022-02-02T20:48:20.221028Z",
     "shell.execute_reply.started": "2022-02-02T20:42:45.940259Z"
    },
    "papermill": {
     "duration": 2.314252,
     "end_time": "2022-02-02T20:48:20.222082",
     "exception": false,
     "start_time": "2022-02-02T20:48:17.907830",
     "status": "completed"
    },
    "tags": []
   },
   "outputs": [
    {
     "data": {
      "text/plain": [
       "42"
      ]
     },
     "execution_count": 8,
     "metadata": {},
     "output_type": "execute_result"
    }
   ],
   "source": [
    "X = np.concatenate([X_train, X_val])\n",
    "Y = np.concatenate([Y_train, Y_val])\n",
    "del X_train, Y_train\n",
    "gc.collect()"
   ]
  },
  {
   "cell_type": "code",
   "execution_count": 9,
   "id": "5708d5bd",
   "metadata": {
    "execution": {
     "iopub.execute_input": "2022-02-02T20:48:20.261574Z",
     "iopub.status.busy": "2022-02-02T20:48:20.260786Z",
     "iopub.status.idle": "2022-02-02T20:49:34.210073Z",
     "shell.execute_reply": "2022-02-02T20:49:34.210991Z",
     "shell.execute_reply.started": "2022-02-02T20:42:56.933179Z"
    },
    "papermill": {
     "duration": 73.971709,
     "end_time": "2022-02-02T20:49:34.211312",
     "exception": false,
     "start_time": "2022-02-02T20:48:20.239603",
     "status": "completed"
    },
    "tags": []
   },
   "outputs": [
    {
     "name": "stdout",
     "output_type": "stream",
     "text": [
      "Validation Pearson r: 0.06846588523565447\n"
     ]
    }
   ],
   "source": [
    "lr = SGDRegressor()\n",
    "lr.fit(X, Y)\n",
    "print ('Validation Pearson r: {}'.format(str(pearsonr(lr.predict(X_val), Y_val)[0])))"
   ]
  },
  {
   "cell_type": "markdown",
   "id": "4eef20f5",
   "metadata": {
    "papermill": {
     "duration": 0.023034,
     "end_time": "2022-02-02T20:49:34.258571",
     "exception": false,
     "start_time": "2022-02-02T20:49:34.235537",
     "status": "completed"
    },
    "tags": []
   },
   "source": [
    "# Submission"
   ]
  },
  {
   "cell_type": "code",
   "execution_count": 10,
   "id": "c3425671",
   "metadata": {
    "execution": {
     "iopub.execute_input": "2022-02-02T20:49:34.310144Z",
     "iopub.status.busy": "2022-02-02T20:49:34.309405Z",
     "iopub.status.idle": "2022-02-02T20:49:34.414667Z",
     "shell.execute_reply": "2022-02-02T20:49:34.415302Z"
    },
    "papermill": {
     "duration": 0.132861,
     "end_time": "2022-02-02T20:49:34.415536",
     "exception": false,
     "start_time": "2022-02-02T20:49:34.282675",
     "status": "completed"
    },
    "tags": []
   },
   "outputs": [
    {
     "name": "stdout",
     "output_type": "stream",
     "text": [
      "This version of the API is not optimized and should not be used to estimate the runtime of your code on the hidden test set.\n",
      "Index(['row_id', 'target'], dtype='object')\n",
      "Index(['row_id', 'investment_id', 'f_0', 'f_1', 'f_2', 'f_3', 'f_4', 'f_5',\n",
      "       'f_6', 'f_7',\n",
      "       ...\n",
      "       'f_290', 'f_291', 'f_292', 'f_293', 'f_294', 'f_295', 'f_296', 'f_297',\n",
      "       'f_298', 'f_299'],\n",
      "      dtype='object', length=302)\n"
     ]
    }
   ],
   "source": [
    "import ubiquant\n",
    "env = ubiquant.make_env()\n",
    "iter_test = env.iter_test()\n",
    "p = True\n",
    "for (test_df, sample_prediction_df) in iter_test:\n",
    "    if p:\n",
    "        p = False\n",
    "        print (sample_prediction_df.columns)\n",
    "        print (test_df.columns)\n",
    "    X_test = test_df[features].values\n",
    "    sample_prediction_df['target'] = lr.predict(X_test)\n",
    "    env.predict(sample_prediction_df) "
   ]
  }
 ],
 "metadata": {
  "kernelspec": {
   "display_name": "Python 3",
   "language": "python",
   "name": "python3"
  },
  "language_info": {
   "codemirror_mode": {
    "name": "ipython",
    "version": 3
   },
   "file_extension": ".py",
   "mimetype": "text/x-python",
   "name": "python",
   "nbconvert_exporter": "python",
   "pygments_lexer": "ipython3",
   "version": "3.7.12"
  },
  "papermill": {
   "default_parameters": {},
   "duration": 212.304251,
   "end_time": "2022-02-02T20:49:35.545277",
   "environment_variables": {},
   "exception": null,
   "input_path": "__notebook__.ipynb",
   "output_path": "__notebook__.ipynb",
   "parameters": {},
   "start_time": "2022-02-02T20:46:03.241026",
   "version": "2.3.3"
  }
 },
 "nbformat": 4,
 "nbformat_minor": 5
}
