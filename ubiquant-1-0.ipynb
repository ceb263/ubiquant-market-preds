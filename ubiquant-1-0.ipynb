{
 "cells": [
  {
   "cell_type": "code",
   "execution_count": 1,
   "id": "caf1c964",
   "metadata": {
    "_cell_guid": "b1076dfc-b9ad-4769-8c92-a6c4dae69d19",
    "_uuid": "8f2839f25d086af736a60e9eeb907d3b93b6e0e5",
    "execution": {
     "iopub.execute_input": "2022-02-02T20:59:14.721596Z",
     "iopub.status.busy": "2022-02-02T20:59:14.720300Z",
     "iopub.status.idle": "2022-02-02T20:59:15.871103Z",
     "shell.execute_reply": "2022-02-02T20:59:15.869316Z",
     "shell.execute_reply.started": "2022-02-02T20:54:30.397240Z"
    },
    "papermill": {
     "duration": 1.167794,
     "end_time": "2022-02-02T20:59:15.871351",
     "exception": false,
     "start_time": "2022-02-02T20:59:14.703557",
     "status": "completed"
    },
    "tags": []
   },
   "outputs": [],
   "source": [
    "# This Python 3 environment comes with many helpful analytics libraries installed\n",
    "# It is defined by the kaggle/python Docker image: https://github.com/kaggle/docker-python\n",
    "# For example, here's several helpful packages to load\n",
    "\n",
    "import numpy as np # linear algebra\n",
    "import pandas as pd # data processing, CSV file I/O (e.g. pd.read_csv)\n",
    "import matplotlib\n",
    "import matplotlib.pyplot as plt\n",
    "import seaborn as sns\n",
    "import os\n",
    "import gc\n",
    "\n",
    "%matplotlib inline\n",
    "\n",
    "pd.set_option('display.max_rows', 304)\n",
    "\n",
    "# Input data files are available in the read-only \"../input/\" directory\n",
    "# For example, running this (by clicking run or pressing Shift+Enter) will list all files under the input directory\n",
    "\n",
    "\n",
    "# You can write up to 20GB to the current directory (/kaggle/working/) that gets preserved as output when you create a version using \"Save & Run All\" \n",
    "# You can also write temporary files to /kaggle/temp/, but they won't be saved outside of the current session"
   ]
  },
  {
   "cell_type": "markdown",
   "id": "5d2da298",
   "metadata": {
    "papermill": {
     "duration": 0.011709,
     "end_time": "2022-02-02T20:59:15.895858",
     "exception": false,
     "start_time": "2022-02-02T20:59:15.884149",
     "status": "completed"
    },
    "tags": []
   },
   "source": [
    "Some notes/ideas from EDA:\n",
    "* Looks like missing values were replaced with 0 (including in target!).\n",
    "* Lag features? Feature for number of time_ids since this investment_id started? Lag of target itself?\n",
    "* Note: if doing lag features, will need to be careful to combine test data with train data in order to make sure lag features are included.\n",
    "* All features are scaled already (including target) - roughly mean of 0 and standard deviation 1. However, many features are bimodal, or skewed.\n",
    "* All features have low correlation with target, but there are some that correlate with each other.\n",
    "* Initial validation: time-based\n",
    "* Validation goal: want validation score to be similar to leaderboard score"
   ]
  },
  {
   "cell_type": "code",
   "execution_count": 2,
   "id": "7333574c",
   "metadata": {
    "execution": {
     "iopub.execute_input": "2022-02-02T20:59:15.924031Z",
     "iopub.status.busy": "2022-02-02T20:59:15.923009Z",
     "iopub.status.idle": "2022-02-02T20:59:56.305794Z",
     "shell.execute_reply": "2022-02-02T20:59:56.306608Z",
     "shell.execute_reply.started": "2022-02-02T20:56:02.098949Z"
    },
    "papermill": {
     "duration": 40.398965,
     "end_time": "2022-02-02T20:59:56.306866",
     "exception": false,
     "start_time": "2022-02-02T20:59:15.907901",
     "status": "completed"
    },
    "tags": []
   },
   "outputs": [
    {
     "name": "stdout",
     "output_type": "stream",
     "text": [
      "3141410\n"
     ]
    }
   ],
   "source": [
    "df = pd.read_parquet(\"../input/ubiquant-parquet/train_low_mem.parquet\")\n",
    "print (len(df.index))"
   ]
  },
  {
   "cell_type": "code",
   "execution_count": 3,
   "id": "459325ce",
   "metadata": {
    "execution": {
     "iopub.execute_input": "2022-02-02T20:59:56.338308Z",
     "iopub.status.busy": "2022-02-02T20:59:56.337517Z",
     "iopub.status.idle": "2022-02-02T20:59:56.339305Z",
     "shell.execute_reply": "2022-02-02T20:59:56.339768Z",
     "shell.execute_reply.started": "2022-01-31T20:07:03.330462Z"
    },
    "papermill": {
     "duration": 0.018657,
     "end_time": "2022-02-02T20:59:56.339962",
     "exception": false,
     "start_time": "2022-02-02T20:59:56.321305",
     "status": "completed"
    },
    "tags": []
   },
   "outputs": [],
   "source": [
    "# for now, just use a sub-sample to do some exploration\n",
    "#df = df.sample(frac=0.05, random_state=26)"
   ]
  },
  {
   "cell_type": "markdown",
   "id": "9065c742",
   "metadata": {
    "papermill": {
     "duration": 0.011924,
     "end_time": "2022-02-02T20:59:56.364504",
     "exception": false,
     "start_time": "2022-02-02T20:59:56.352580",
     "status": "completed"
    },
    "tags": []
   },
   "source": [
    "# Validation Set"
   ]
  },
  {
   "cell_type": "markdown",
   "id": "a8fc66c8",
   "metadata": {
    "papermill": {
     "duration": 0.011812,
     "end_time": "2022-02-02T20:59:56.388440",
     "exception": false,
     "start_time": "2022-02-02T20:59:56.376628",
     "status": "completed"
    },
    "tags": []
   },
   "source": [
    "Initial strategy will be to hold out the highest ~25% of data in terms of time_id as a validation set"
   ]
  },
  {
   "cell_type": "code",
   "execution_count": 4,
   "id": "506a3cd0",
   "metadata": {
    "execution": {
     "iopub.execute_input": "2022-02-02T20:59:56.417426Z",
     "iopub.status.busy": "2022-02-02T20:59:56.416713Z",
     "iopub.status.idle": "2022-02-02T21:00:03.199427Z",
     "shell.execute_reply": "2022-02-02T21:00:03.200215Z",
     "shell.execute_reply.started": "2022-02-02T20:56:52.509264Z"
    },
    "papermill": {
     "duration": 6.79985,
     "end_time": "2022-02-02T21:00:03.200597",
     "exception": false,
     "start_time": "2022-02-02T20:59:56.400747",
     "status": "completed"
    },
    "tags": []
   },
   "outputs": [
    {
     "name": "stdout",
     "output_type": "stream",
     "text": [
      "975.0\n"
     ]
    }
   ],
   "source": [
    "features = ['f_'+str(i) for i in range(300)]\n",
    "val_time_cutoff = np.floor(df['time_id'].quantile(0.75))\n",
    "print (val_time_cutoff)\n",
    "X_train = df.loc[df['time_id']<=val_time_cutoff, features].values\n",
    "Y_train = df.loc[df['time_id']<=val_time_cutoff, 'target'].values\n",
    "X_val = df.loc[df['time_id']>val_time_cutoff, features].values\n",
    "Y_val = df.loc[df['time_id']>val_time_cutoff, 'target'].values"
   ]
  },
  {
   "cell_type": "code",
   "execution_count": 5,
   "id": "f92cc2bf",
   "metadata": {
    "execution": {
     "iopub.execute_input": "2022-02-02T21:00:03.869689Z",
     "iopub.status.busy": "2022-02-02T21:00:03.865779Z",
     "iopub.status.idle": "2022-02-02T21:00:03.873202Z",
     "shell.execute_reply": "2022-02-02T21:00:03.873764Z",
     "shell.execute_reply.started": "2022-02-02T20:56:58.747259Z"
    },
    "papermill": {
     "duration": 0.657434,
     "end_time": "2022-02-02T21:00:03.874001",
     "exception": false,
     "start_time": "2022-02-02T21:00:03.216567",
     "status": "completed"
    },
    "tags": []
   },
   "outputs": [
    {
     "data": {
      "text/plain": [
       "25"
      ]
     },
     "execution_count": 5,
     "metadata": {},
     "output_type": "execute_result"
    }
   ],
   "source": [
    "del df\n",
    "gc.collect()"
   ]
  },
  {
   "cell_type": "markdown",
   "id": "afeaa08a",
   "metadata": {
    "papermill": {
     "duration": 0.012928,
     "end_time": "2022-02-02T21:00:03.900421",
     "exception": false,
     "start_time": "2022-02-02T21:00:03.887493",
     "status": "completed"
    },
    "tags": []
   },
   "source": [
    "# Training"
   ]
  },
  {
   "cell_type": "code",
   "execution_count": 6,
   "id": "c8fe660e",
   "metadata": {
    "execution": {
     "iopub.execute_input": "2022-02-02T21:00:03.930220Z",
     "iopub.status.busy": "2022-02-02T21:00:03.929469Z",
     "iopub.status.idle": "2022-02-02T21:00:04.487459Z",
     "shell.execute_reply": "2022-02-02T21:00:04.486801Z",
     "shell.execute_reply.started": "2022-02-02T20:56:59.028107Z"
    },
    "papermill": {
     "duration": 0.574227,
     "end_time": "2022-02-02T21:00:04.487641",
     "exception": false,
     "start_time": "2022-02-02T21:00:03.913414",
     "status": "completed"
    },
    "tags": []
   },
   "outputs": [],
   "source": [
    "from sklearn.linear_model import LinearRegression\n",
    "from scipy.stats import pearsonr\n",
    "import random"
   ]
  },
  {
   "cell_type": "code",
   "execution_count": 7,
   "id": "bf9b9348",
   "metadata": {
    "execution": {
     "iopub.execute_input": "2022-02-02T21:00:04.533213Z",
     "iopub.status.busy": "2022-02-02T21:00:04.531365Z",
     "iopub.status.idle": "2022-02-02T21:00:38.971141Z",
     "shell.execute_reply": "2022-02-02T21:00:38.972088Z",
     "shell.execute_reply.started": "2022-02-02T20:56:59.617758Z"
    },
    "papermill": {
     "duration": 34.467128,
     "end_time": "2022-02-02T21:00:38.972406",
     "exception": false,
     "start_time": "2022-02-02T21:00:04.505278",
     "status": "completed"
    },
    "tags": []
   },
   "outputs": [
    {
     "name": "stdout",
     "output_type": "stream",
     "text": [
      "Validation Pearson r: 0.10254575425999425\n"
     ]
    }
   ],
   "source": [
    "lr = LinearRegression()\n",
    "lr.fit(X_train, Y_train)\n",
    "print ('Validation Pearson r: {}'.format(str(pearsonr(lr.predict(X_val), Y_val)[0])))"
   ]
  },
  {
   "cell_type": "markdown",
   "id": "671438cb",
   "metadata": {
    "papermill": {
     "duration": 0.023773,
     "end_time": "2022-02-02T21:00:39.020165",
     "exception": false,
     "start_time": "2022-02-02T21:00:38.996392",
     "status": "completed"
    },
    "tags": []
   },
   "source": [
    "# Final Train on Train+Val"
   ]
  },
  {
   "cell_type": "code",
   "execution_count": 8,
   "id": "a6749631",
   "metadata": {
    "execution": {
     "iopub.execute_input": "2022-02-02T21:00:39.074399Z",
     "iopub.status.busy": "2022-02-02T21:00:39.072678Z",
     "iopub.status.idle": "2022-02-02T21:00:40.558561Z",
     "shell.execute_reply": "2022-02-02T21:00:40.557898Z",
     "shell.execute_reply.started": "2022-02-02T20:57:41.197019Z"
    },
    "papermill": {
     "duration": 1.513443,
     "end_time": "2022-02-02T21:00:40.558708",
     "exception": false,
     "start_time": "2022-02-02T21:00:39.045265",
     "status": "completed"
    },
    "tags": []
   },
   "outputs": [
    {
     "data": {
      "text/plain": [
       "42"
      ]
     },
     "execution_count": 8,
     "metadata": {},
     "output_type": "execute_result"
    }
   ],
   "source": [
    "X = np.concatenate([X_train, X_val])\n",
    "Y = np.concatenate([Y_train, Y_val])\n",
    "del X_train, Y_train\n",
    "gc.collect()"
   ]
  },
  {
   "cell_type": "code",
   "execution_count": 9,
   "id": "e0268e8f",
   "metadata": {
    "execution": {
     "iopub.execute_input": "2022-02-02T21:00:40.592759Z",
     "iopub.status.busy": "2022-02-02T21:00:40.591509Z",
     "iopub.status.idle": "2022-02-02T21:01:21.722380Z",
     "shell.execute_reply": "2022-02-02T21:01:21.724163Z",
     "shell.execute_reply.started": "2022-02-02T20:57:56.102855Z"
    },
    "papermill": {
     "duration": 41.151882,
     "end_time": "2022-02-02T21:01:21.724537",
     "exception": false,
     "start_time": "2022-02-02T21:00:40.572655",
     "status": "completed"
    },
    "tags": []
   },
   "outputs": [
    {
     "name": "stdout",
     "output_type": "stream",
     "text": [
      "Validation Pearson r: 0.12321473931746713\n"
     ]
    }
   ],
   "source": [
    "lr = LinearRegression()\n",
    "lr.fit(X, Y)\n",
    "print ('Validation Pearson r: {}'.format(str(pearsonr(lr.predict(X_val), Y_val)[0])))"
   ]
  },
  {
   "cell_type": "markdown",
   "id": "d31d1851",
   "metadata": {
    "papermill": {
     "duration": 0.028005,
     "end_time": "2022-02-02T21:01:21.778197",
     "exception": false,
     "start_time": "2022-02-02T21:01:21.750192",
     "status": "completed"
    },
    "tags": []
   },
   "source": [
    "# Submission"
   ]
  },
  {
   "cell_type": "code",
   "execution_count": 10,
   "id": "ed46ed13",
   "metadata": {
    "execution": {
     "iopub.execute_input": "2022-02-02T21:01:21.827245Z",
     "iopub.status.busy": "2022-02-02T21:01:21.826476Z",
     "iopub.status.idle": "2022-02-02T21:01:21.916082Z",
     "shell.execute_reply": "2022-02-02T21:01:21.916825Z"
    },
    "papermill": {
     "duration": 0.11335,
     "end_time": "2022-02-02T21:01:21.917074",
     "exception": false,
     "start_time": "2022-02-02T21:01:21.803724",
     "status": "completed"
    },
    "tags": []
   },
   "outputs": [
    {
     "name": "stdout",
     "output_type": "stream",
     "text": [
      "This version of the API is not optimized and should not be used to estimate the runtime of your code on the hidden test set.\n",
      "Index(['row_id', 'target'], dtype='object')\n",
      "Index(['row_id', 'investment_id', 'f_0', 'f_1', 'f_2', 'f_3', 'f_4', 'f_5',\n",
      "       'f_6', 'f_7',\n",
      "       ...\n",
      "       'f_290', 'f_291', 'f_292', 'f_293', 'f_294', 'f_295', 'f_296', 'f_297',\n",
      "       'f_298', 'f_299'],\n",
      "      dtype='object', length=302)\n"
     ]
    }
   ],
   "source": [
    "import ubiquant\n",
    "env = ubiquant.make_env()\n",
    "iter_test = env.iter_test()\n",
    "p = True\n",
    "for (test_df, sample_prediction_df) in iter_test:\n",
    "    if p:\n",
    "        p = False\n",
    "        print (sample_prediction_df.columns)\n",
    "        print (test_df.columns)\n",
    "    X_test = test_df[features].values\n",
    "    sample_prediction_df['target'] = lr.predict(X_test)\n",
    "    env.predict(sample_prediction_df) "
   ]
  }
 ],
 "metadata": {
  "kernelspec": {
   "display_name": "Python 3",
   "language": "python",
   "name": "python3"
  },
  "language_info": {
   "codemirror_mode": {
    "name": "ipython",
    "version": 3
   },
   "file_extension": ".py",
   "mimetype": "text/x-python",
   "name": "python",
   "nbconvert_exporter": "python",
   "pygments_lexer": "ipython3",
   "version": "3.7.12"
  },
  "papermill": {
   "default_parameters": {},
   "duration": 138.779438,
   "end_time": "2022-02-02T21:01:22.744098",
   "environment_variables": {},
   "exception": null,
   "input_path": "__notebook__.ipynb",
   "output_path": "__notebook__.ipynb",
   "parameters": {},
   "start_time": "2022-02-02T20:59:03.964660",
   "version": "2.3.3"
  }
 },
 "nbformat": 4,
 "nbformat_minor": 5
}
