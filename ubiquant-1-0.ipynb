{
 "cells": [
  {
   "cell_type": "code",
   "execution_count": 1,
   "id": "91b542ba",
   "metadata": {
    "_cell_guid": "b1076dfc-b9ad-4769-8c92-a6c4dae69d19",
    "_uuid": "8f2839f25d086af736a60e9eeb907d3b93b6e0e5",
    "execution": {
     "iopub.execute_input": "2022-01-28T18:01:46.516016Z",
     "iopub.status.busy": "2022-01-28T18:01:46.515341Z",
     "iopub.status.idle": "2022-01-28T18:01:46.525612Z",
     "shell.execute_reply": "2022-01-28T18:01:46.526170Z",
     "shell.execute_reply.started": "2022-01-28T16:30:30.884204Z"
    },
    "papermill": {
     "duration": 0.025845,
     "end_time": "2022-01-28T18:01:46.526466",
     "exception": false,
     "start_time": "2022-01-28T18:01:46.500621",
     "status": "completed"
    },
    "tags": []
   },
   "outputs": [],
   "source": [
    "# This Python 3 environment comes with many helpful analytics libraries installed\n",
    "# It is defined by the kaggle/python Docker image: https://github.com/kaggle/docker-python\n",
    "# For example, here's several helpful packages to load\n",
    "\n",
    "import numpy as np # linear algebra\n",
    "import pandas as pd # data processing, CSV file I/O (e.g. pd.read_csv)\n",
    "import matplotlib\n",
    "import matplotlib.pyplot as plt\n",
    "import os\n",
    "\n",
    "%matplotlib inline\n",
    "\n",
    "pd.set_option('display.max_rows', 150)\n",
    "\n",
    "# Input data files are available in the read-only \"../input/\" directory\n",
    "# For example, running this (by clicking run or pressing Shift+Enter) will list all files under the input directory\n",
    "\n",
    "\n",
    "# You can write up to 20GB to the current directory (/kaggle/working/) that gets preserved as output when you create a version using \"Save & Run All\" \n",
    "# You can also write temporary files to /kaggle/temp/, but they won't be saved outside of the current session"
   ]
  },
  {
   "cell_type": "code",
   "execution_count": 2,
   "id": "d4bcd8c2",
   "metadata": {
    "execution": {
     "iopub.execute_input": "2022-01-28T18:01:46.540571Z",
     "iopub.status.busy": "2022-01-28T18:01:46.539508Z",
     "iopub.status.idle": "2022-01-28T18:02:28.001084Z",
     "shell.execute_reply": "2022-01-28T18:02:28.002032Z",
     "shell.execute_reply.started": "2022-01-28T16:36:26.817135Z"
    },
    "papermill": {
     "duration": 41.470756,
     "end_time": "2022-01-28T18:02:28.002540",
     "exception": false,
     "start_time": "2022-01-28T18:01:46.531784",
     "status": "completed"
    },
    "tags": []
   },
   "outputs": [],
   "source": [
    "df = pd.read_parquet(\"../input/ubiquant-parquet/train_low_mem.parquet\")"
   ]
  },
  {
   "cell_type": "code",
   "execution_count": 3,
   "id": "9e49139c",
   "metadata": {
    "execution": {
     "iopub.execute_input": "2022-01-28T18:02:28.024584Z",
     "iopub.status.busy": "2022-01-28T18:02:28.023345Z",
     "iopub.status.idle": "2022-01-28T18:02:29.070858Z",
     "shell.execute_reply": "2022-01-28T18:02:29.071469Z",
     "shell.execute_reply.started": "2022-01-28T16:39:23.845900Z"
    },
    "papermill": {
     "duration": 1.061916,
     "end_time": "2022-01-28T18:02:29.071650",
     "exception": false,
     "start_time": "2022-01-28T18:02:28.009734",
     "status": "completed"
    },
    "tags": []
   },
   "outputs": [],
   "source": [
    "# for now, just use a sub-sample to do some exploration\n",
    "df = df.sample(frac=0.05, random_state=26)"
   ]
  },
  {
   "cell_type": "code",
   "execution_count": 4,
   "id": "967472a9",
   "metadata": {
    "execution": {
     "iopub.execute_input": "2022-01-28T18:02:29.089345Z",
     "iopub.status.busy": "2022-01-28T18:02:29.088330Z",
     "iopub.status.idle": "2022-01-28T18:02:29.292168Z",
     "shell.execute_reply": "2022-01-28T18:02:29.292688Z"
    },
    "papermill": {
     "duration": 0.214862,
     "end_time": "2022-01-28T18:02:29.292906",
     "exception": false,
     "start_time": "2022-01-28T18:02:29.078044",
     "status": "completed"
    },
    "tags": []
   },
   "outputs": [
    {
     "name": "stdout",
     "output_type": "stream",
     "text": [
      "This version of the API is not optimized and should not be used to estimate the runtime of your code on the hidden test set.\n"
     ]
    }
   ],
   "source": [
    "import ubiquant\n",
    "env = ubiquant.make_env()\n",
    "iter_test = env.iter_test() \n",
    "for (test_df, sample_prediction_df) in iter_test:\n",
    "    sample_prediction_df['target'] = 0.\n",
    "    env.predict(sample_prediction_df) "
   ]
  }
 ],
 "metadata": {
  "kernelspec": {
   "display_name": "Python 3",
   "language": "python",
   "name": "python3"
  },
  "language_info": {
   "codemirror_mode": {
    "name": "ipython",
    "version": 3
   },
   "file_extension": ".py",
   "mimetype": "text/x-python",
   "name": "python",
   "nbconvert_exporter": "python",
   "pygments_lexer": "ipython3",
   "version": "3.7.12"
  },
  "papermill": {
   "default_parameters": {},
   "duration": 53.788463,
   "end_time": "2022-01-28T18:02:30.223108",
   "environment_variables": {},
   "exception": null,
   "input_path": "__notebook__.ipynb",
   "output_path": "__notebook__.ipynb",
   "parameters": {},
   "start_time": "2022-01-28T18:01:36.434645",
   "version": "2.3.3"
  }
 },
 "nbformat": 4,
 "nbformat_minor": 5
}
