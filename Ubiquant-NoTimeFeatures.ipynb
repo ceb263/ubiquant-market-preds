{
 "cells": [
  {
   "cell_type": "code",
   "execution_count": 1,
   "id": "04834cd8",
   "metadata": {
    "_cell_guid": "b1076dfc-b9ad-4769-8c92-a6c4dae69d19",
    "_uuid": "8f2839f25d086af736a60e9eeb907d3b93b6e0e5",
    "execution": {
     "iopub.execute_input": "2022-02-10T13:43:06.869829Z",
     "iopub.status.busy": "2022-02-10T13:43:06.868494Z",
     "iopub.status.idle": "2022-02-10T13:43:06.879105Z",
     "shell.execute_reply": "2022-02-10T13:43:06.879674Z",
     "shell.execute_reply.started": "2022-02-09T20:48:44.829926Z"
    },
    "papermill": {
     "duration": 0.0295,
     "end_time": "2022-02-10T13:43:06.880002",
     "exception": false,
     "start_time": "2022-02-10T13:43:06.850502",
     "status": "completed"
    },
    "tags": []
   },
   "outputs": [],
   "source": [
    "# This Python 3 environment comes with many helpful analytics libraries installed\n",
    "# It is defined by the kaggle/python Docker image: https://github.com/kaggle/docker-python\n",
    "# For example, here's several helpful packages to load\n",
    "\n",
    "import numpy as np # linear algebra\n",
    "import pandas as pd # data processing, CSV file I/O (e.g. pd.read_csv)\n",
    "import os\n",
    "import gc\n",
    "\n",
    "# Input data files are available in the read-only \"../input/\" directory\n",
    "# For example, running this (by clicking run or pressing Shift+Enter) will list all files under the input directory\n",
    "\n",
    "\n",
    "# You can write up to 20GB to the current directory (/kaggle/working/) that gets preserved as output when you create a version using \"Save & Run All\" \n",
    "# You can also write temporary files to /kaggle/temp/, but they won't be saved outside of the current session"
   ]
  },
  {
   "cell_type": "code",
   "execution_count": 2,
   "id": "9a8adb61",
   "metadata": {
    "execution": {
     "iopub.execute_input": "2022-02-10T13:43:06.909099Z",
     "iopub.status.busy": "2022-02-10T13:43:06.908362Z",
     "iopub.status.idle": "2022-02-10T13:43:51.113981Z",
     "shell.execute_reply": "2022-02-10T13:43:51.114660Z",
     "shell.execute_reply.started": "2022-02-09T20:48:44.995308Z"
    },
    "papermill": {
     "duration": 44.222168,
     "end_time": "2022-02-10T13:43:51.115047",
     "exception": false,
     "start_time": "2022-02-10T13:43:06.892879",
     "status": "completed"
    },
    "tags": []
   },
   "outputs": [
    {
     "name": "stdout",
     "output_type": "stream",
     "text": [
      "3141410\n"
     ]
    }
   ],
   "source": [
    "df = pd.read_parquet(\"../input/ubiquant-parquet/train_low_mem.parquet\")\n",
    "print (len(df.index))"
   ]
  },
  {
   "cell_type": "code",
   "execution_count": 3,
   "id": "71557678",
   "metadata": {
    "execution": {
     "iopub.execute_input": "2022-02-10T13:43:51.150521Z",
     "iopub.status.busy": "2022-02-10T13:43:51.149762Z",
     "iopub.status.idle": "2022-02-10T13:43:52.894158Z",
     "shell.execute_reply": "2022-02-10T13:43:52.893321Z",
     "shell.execute_reply.started": "2022-02-09T20:49:23.259590Z"
    },
    "papermill": {
     "duration": 1.766258,
     "end_time": "2022-02-10T13:43:52.894322",
     "exception": false,
     "start_time": "2022-02-10T13:43:51.128064",
     "status": "completed"
    },
    "tags": []
   },
   "outputs": [],
   "source": [
    "# for now, just use a sub-sample to do some exploration\n",
    "#df = df.sample(frac=0.05, random_state=26)\n",
    "\n",
    "# sample using investment_id\n",
    "sampled_ids = pd.Series(df['investment_id'].unique()).sample(frac=0.35, random_state=26)\n",
    "df = df.loc[df['investment_id'].isin(sampled_ids)]"
   ]
  },
  {
   "cell_type": "code",
   "execution_count": 4,
   "id": "dc7b96a0",
   "metadata": {
    "execution": {
     "iopub.execute_input": "2022-02-10T13:43:52.928421Z",
     "iopub.status.busy": "2022-02-10T13:43:52.927550Z",
     "iopub.status.idle": "2022-02-10T13:43:52.930062Z",
     "shell.execute_reply": "2022-02-10T13:43:52.931064Z",
     "shell.execute_reply.started": "2022-02-09T20:49:23.265668Z"
    },
    "papermill": {
     "duration": 0.023005,
     "end_time": "2022-02-10T13:43:52.931330",
     "exception": false,
     "start_time": "2022-02-10T13:43:52.908325",
     "status": "completed"
    },
    "tags": []
   },
   "outputs": [],
   "source": [
    "features = ['f_'+str(i) for i in range(300)]"
   ]
  },
  {
   "cell_type": "code",
   "execution_count": 5,
   "id": "e267ef49",
   "metadata": {
    "execution": {
     "iopub.execute_input": "2022-02-10T13:43:52.969798Z",
     "iopub.status.busy": "2022-02-10T13:43:52.968023Z",
     "iopub.status.idle": "2022-02-10T13:43:53.622274Z",
     "shell.execute_reply": "2022-02-10T13:43:53.621584Z",
     "shell.execute_reply.started": "2022-02-09T20:49:23.278112Z"
    },
    "papermill": {
     "duration": 0.672488,
     "end_time": "2022-02-10T13:43:53.622452",
     "exception": false,
     "start_time": "2022-02-10T13:43:52.949964",
     "status": "completed"
    },
    "tags": []
   },
   "outputs": [],
   "source": [
    "X = df[features].values\n",
    "Y = df['target'].values"
   ]
  },
  {
   "cell_type": "code",
   "execution_count": 6,
   "id": "061248ea",
   "metadata": {
    "execution": {
     "iopub.execute_input": "2022-02-10T13:43:53.654566Z",
     "iopub.status.busy": "2022-02-10T13:43:53.653518Z",
     "iopub.status.idle": "2022-02-10T13:43:53.943516Z",
     "shell.execute_reply": "2022-02-10T13:43:53.944047Z",
     "shell.execute_reply.started": "2022-02-09T20:49:26.011072Z"
    },
    "papermill": {
     "duration": 0.308684,
     "end_time": "2022-02-10T13:43:53.944234",
     "exception": false,
     "start_time": "2022-02-10T13:43:53.635550",
     "status": "completed"
    },
    "tags": []
   },
   "outputs": [
    {
     "data": {
      "text/plain": [
       "114"
      ]
     },
     "execution_count": 6,
     "metadata": {},
     "output_type": "execute_result"
    }
   ],
   "source": [
    "del df\n",
    "gc.collect()"
   ]
  },
  {
   "cell_type": "markdown",
   "id": "e87a8ea9",
   "metadata": {
    "papermill": {
     "duration": 0.013019,
     "end_time": "2022-02-10T13:43:53.970764",
     "exception": false,
     "start_time": "2022-02-10T13:43:53.957745",
     "status": "completed"
    },
    "tags": []
   },
   "source": [
    "# Training"
   ]
  },
  {
   "cell_type": "code",
   "execution_count": 7,
   "id": "7aa27b08",
   "metadata": {
    "execution": {
     "iopub.execute_input": "2022-02-10T13:43:54.003618Z",
     "iopub.status.busy": "2022-02-10T13:43:54.002951Z",
     "iopub.status.idle": "2022-02-10T13:44:02.513180Z",
     "shell.execute_reply": "2022-02-10T13:44:02.512443Z",
     "shell.execute_reply.started": "2022-02-09T20:49:26.265830Z"
    },
    "papermill": {
     "duration": 8.529445,
     "end_time": "2022-02-10T13:44:02.513413",
     "exception": false,
     "start_time": "2022-02-10T13:43:53.983968",
     "status": "completed"
    },
    "tags": []
   },
   "outputs": [
    {
     "data": {
      "text/html": [
       "<style type='text/css'>\n",
       ".datatable table.frame { margin-bottom: 0; }\n",
       ".datatable table.frame thead { border-bottom: none; }\n",
       ".datatable table.frame tr.coltypes td {  color: #FFFFFF;  line-height: 6px;  padding: 0 0.5em;}\n",
       ".datatable .bool    { background: #DDDD99; }\n",
       ".datatable .object  { background: #565656; }\n",
       ".datatable .int     { background: #5D9E5D; }\n",
       ".datatable .float   { background: #4040CC; }\n",
       ".datatable .str     { background: #CC4040; }\n",
       ".datatable .time    { background: #40CC40; }\n",
       ".datatable .row_index {  background: var(--jp-border-color3);  border-right: 1px solid var(--jp-border-color0);  color: var(--jp-ui-font-color3);  font-size: 9px;}\n",
       ".datatable .frame tbody td { text-align: left; }\n",
       ".datatable .frame tr.coltypes .row_index {  background: var(--jp-border-color0);}\n",
       ".datatable th:nth-child(2) { padding-left: 12px; }\n",
       ".datatable .hellipsis {  color: var(--jp-cell-editor-border-color);}\n",
       ".datatable .vellipsis {  background: var(--jp-layout-color0);  color: var(--jp-cell-editor-border-color);}\n",
       ".datatable .na {  color: var(--jp-cell-editor-border-color);  font-size: 80%;}\n",
       ".datatable .sp {  opacity: 0.25;}\n",
       ".datatable .footer { font-size: 9px; }\n",
       ".datatable .frame_dimensions {  background: var(--jp-border-color3);  border-top: 1px solid var(--jp-border-color0);  color: var(--jp-ui-font-color3);  display: inline-block;  opacity: 0.6;  padding: 1px 10px 1px 5px;}\n",
       "</style>\n"
      ],
      "text/plain": [
       "<IPython.core.display.HTML object>"
      ]
     },
     "metadata": {},
     "output_type": "display_data"
    }
   ],
   "source": [
    "from sklearn.linear_model import LinearRegression\n",
    "from sklearn.decomposition import PCA\n",
    "from scipy.stats import pearsonr\n",
    "import lightgbm as lgb\n",
    "import random\n",
    "\n",
    "from keras.layers.core import Dense, Activation, Dropout\n",
    "from keras.models import Sequential, load_model, Model\n",
    "from keras.layers import Input"
   ]
  },
  {
   "cell_type": "code",
   "execution_count": 8,
   "id": "ef3e0ba2",
   "metadata": {
    "execution": {
     "iopub.execute_input": "2022-02-10T13:44:02.550771Z",
     "iopub.status.busy": "2022-02-10T13:44:02.549291Z",
     "iopub.status.idle": "2022-02-10T13:44:33.123285Z",
     "shell.execute_reply": "2022-02-10T13:44:33.122473Z",
     "shell.execute_reply.started": "2022-02-09T20:49:33.461975Z"
    },
    "papermill": {
     "duration": 30.595064,
     "end_time": "2022-02-10T13:44:33.123475",
     "exception": false,
     "start_time": "2022-02-10T13:44:02.528411",
     "status": "completed"
    },
    "tags": []
   },
   "outputs": [],
   "source": [
    "pca = PCA(n_components=70, random_state=26)\n",
    "X_pca = pca.fit_transform(X)"
   ]
  },
  {
   "cell_type": "code",
   "execution_count": 9,
   "id": "5349d13a",
   "metadata": {
    "execution": {
     "iopub.execute_input": "2022-02-10T13:44:33.158020Z",
     "iopub.status.busy": "2022-02-10T13:44:33.157244Z",
     "iopub.status.idle": "2022-02-10T13:44:36.482710Z",
     "shell.execute_reply": "2022-02-10T13:44:36.483916Z",
     "shell.execute_reply.started": "2022-02-09T20:51:01.913644Z"
    },
    "papermill": {
     "duration": 3.346348,
     "end_time": "2022-02-10T13:44:36.484294",
     "exception": false,
     "start_time": "2022-02-10T13:44:33.137946",
     "status": "completed"
    },
    "tags": []
   },
   "outputs": [
    {
     "data": {
      "text/plain": [
       "LinearRegression()"
      ]
     },
     "execution_count": 9,
     "metadata": {},
     "output_type": "execute_result"
    }
   ],
   "source": [
    "lr = LinearRegression()\n",
    "lr.fit(X_pca, Y)"
   ]
  },
  {
   "cell_type": "code",
   "execution_count": 10,
   "id": "d03acfc1",
   "metadata": {
    "execution": {
     "iopub.execute_input": "2022-02-10T13:44:36.552267Z",
     "iopub.status.busy": "2022-02-10T13:44:36.551141Z",
     "iopub.status.idle": "2022-02-10T13:46:05.326191Z",
     "shell.execute_reply": "2022-02-10T13:46:05.327590Z",
     "shell.execute_reply.started": "2022-02-09T20:52:54.887467Z"
    },
    "papermill": {
     "duration": 88.812933,
     "end_time": "2022-02-10T13:46:05.327900",
     "exception": false,
     "start_time": "2022-02-10T13:44:36.514967",
     "status": "completed"
    },
    "tags": []
   },
   "outputs": [
    {
     "name": "stdout",
     "output_type": "stream",
     "text": [
      "[LightGBM] [Warning] Auto-choosing col-wise multi-threading, the overhead of testing was 2.626240 seconds.\n",
      "You can set `force_col_wise=true` to remove the overhead.\n",
      "[LightGBM] [Info] Total Bins 76500\n",
      "[LightGBM] [Info] Number of data points in the train set: 1103323, number of used features: 300\n",
      "[LightGBM] [Info] Start training from score -0.022359\n"
     ]
    }
   ],
   "source": [
    "params = {\n",
    "    'boosting_type': 'gbdt',\n",
    "    'metric': 'mse',\n",
    "    'objective': 'regression',\n",
    "    'n_jobs': -1,\n",
    "    'seed': 26\n",
    "}\n",
    "gb = lgb.train(params, lgb.Dataset(X, Y))"
   ]
  },
  {
   "cell_type": "code",
   "execution_count": 11,
   "id": "48894285",
   "metadata": {
    "execution": {
     "iopub.execute_input": "2022-02-10T13:46:05.371205Z",
     "iopub.status.busy": "2022-02-10T13:46:05.370260Z",
     "iopub.status.idle": "2022-02-10T13:54:41.060467Z",
     "shell.execute_reply": "2022-02-10T13:54:41.059354Z"
    },
    "papermill": {
     "duration": 515.713058,
     "end_time": "2022-02-10T13:54:41.060708",
     "exception": false,
     "start_time": "2022-02-10T13:46:05.347650",
     "status": "completed"
    },
    "tags": []
   },
   "outputs": [
    {
     "name": "stderr",
     "output_type": "stream",
     "text": [
      "\n",
      "User settings:\n",
      "\n",
      "   KMP_AFFINITY=granularity=fine,noverbose,compact,1,0\n",
      "   KMP_BLOCKTIME=0\n",
      "   KMP_DUPLICATE_LIB_OK=True\n",
      "   KMP_INIT_AT_FORK=FALSE\n",
      "   KMP_SETTINGS=1\n",
      "   KMP_WARNINGS=0\n",
      "\n",
      "Effective settings:\n",
      "\n",
      "   KMP_ABORT_DELAY=0\n",
      "   KMP_ADAPTIVE_LOCK_PROPS='1,1024'\n",
      "   KMP_ALIGN_ALLOC=64\n",
      "   KMP_ALL_THREADPRIVATE=128\n",
      "   KMP_ATOMIC_MODE=2\n",
      "   KMP_BLOCKTIME=0\n",
      "   KMP_CPUINFO_FILE: value is not defined\n",
      "   KMP_DETERMINISTIC_REDUCTION=false\n",
      "   KMP_DEVICE_THREAD_LIMIT=2147483647\n",
      "   KMP_DISP_NUM_BUFFERS=7\n",
      "   KMP_DUPLICATE_LIB_OK=true\n",
      "   KMP_ENABLE_TASK_THROTTLING=true\n",
      "   KMP_FORCE_REDUCTION: value is not defined\n",
      "   KMP_FOREIGN_THREADS_THREADPRIVATE=true\n",
      "   KMP_FORKJOIN_BARRIER='2,2'\n",
      "   KMP_FORKJOIN_BARRIER_PATTERN='hyper,hyper'\n",
      "   KMP_GTID_MODE=3\n",
      "   KMP_HANDLE_SIGNALS=false\n",
      "   KMP_HOT_TEAMS_MAX_LEVEL=1\n",
      "   KMP_HOT_TEAMS_MODE=0\n",
      "   KMP_INIT_AT_FORK=true\n",
      "   KMP_LIBRARY=throughput\n",
      "   KMP_LOCK_KIND=queuing\n",
      "   KMP_MALLOC_POOL_INCR=1M\n",
      "   KMP_NUM_LOCKS_IN_BLOCK=1\n",
      "   KMP_PLAIN_BARRIER='2,2'\n",
      "   KMP_PLAIN_BARRIER_PATTERN='hyper,hyper'\n",
      "   KMP_REDUCTION_BARRIER='1,1'\n",
      "   KMP_REDUCTION_BARRIER_PATTERN='hyper,hyper'\n",
      "   KMP_SCHEDULE='static,balanced;guided,iterative'\n",
      "   KMP_SETTINGS=true\n",
      "   KMP_SPIN_BACKOFF_PARAMS='4096,100'\n",
      "   KMP_STACKOFFSET=64\n",
      "   KMP_STACKPAD=0\n",
      "   KMP_STACKSIZE=8M\n",
      "   KMP_STORAGE_MAP=false\n",
      "   KMP_TASKING=2\n",
      "   KMP_TASKLOOP_MIN_TASKS=0\n",
      "   KMP_TASK_STEALING_CONSTRAINT=1\n",
      "   KMP_TEAMS_THREAD_LIMIT=4\n",
      "   KMP_TOPOLOGY_METHOD=all\n",
      "   KMP_USE_YIELD=1\n",
      "   KMP_VERSION=false\n",
      "   KMP_WARNINGS=false\n",
      "   OMP_AFFINITY_FORMAT='OMP: pid %P tid %i thread %n bound to OS proc set {%A}'\n",
      "   OMP_ALLOCATOR=omp_default_mem_alloc\n",
      "   OMP_CANCELLATION=false\n",
      "   OMP_DEFAULT_DEVICE=0\n",
      "   OMP_DISPLAY_AFFINITY=false\n",
      "   OMP_DISPLAY_ENV=false\n",
      "   OMP_DYNAMIC=false\n",
      "   OMP_MAX_ACTIVE_LEVELS=1\n",
      "   OMP_MAX_TASK_PRIORITY=0\n",
      "   OMP_NESTED: deprecated; max-active-levels-var=1\n",
      "   OMP_NUM_THREADS: value is not defined\n",
      "   OMP_PLACES: value is not defined\n",
      "   OMP_PROC_BIND='intel'\n",
      "   OMP_SCHEDULE='static'\n",
      "   OMP_STACKSIZE=8M\n",
      "   OMP_TARGET_OFFLOAD=DEFAULT\n",
      "   OMP_THREAD_LIMIT=2147483647\n",
      "   OMP_WAIT_POLICY=PASSIVE\n",
      "   KMP_AFFINITY='noverbose,warnings,respect,granularity=fine,compact,1,0'\n",
      "\n",
      "2022-02-10 13:46:05.420894: I tensorflow/core/common_runtime/process_util.cc:146] Creating new thread pool with default inter op setting: 2. Tune using inter_op_parallelism_threads for best performance.\n",
      "2022-02-10 13:46:07.810570: I tensorflow/compiler/mlir/mlir_graph_optimization_pass.cc:185] None of the MLIR Optimization Passes are enabled (registered 2)\n"
     ]
    },
    {
     "name": "stdout",
     "output_type": "stream",
     "text": [
      "Epoch 1/10\n",
      "1078/1078 [==============================] - 51s 47ms/step - loss: 0.8593\n",
      "Epoch 2/10\n",
      "1078/1078 [==============================] - 50s 47ms/step - loss: 0.8349\n",
      "Epoch 3/10\n",
      "1078/1078 [==============================] - 52s 48ms/step - loss: 0.8313\n",
      "Epoch 4/10\n",
      "1078/1078 [==============================] - 50s 46ms/step - loss: 0.8286\n",
      "Epoch 5/10\n",
      "1078/1078 [==============================] - 50s 46ms/step - loss: 0.8268\n",
      "Epoch 6/10\n",
      "1078/1078 [==============================] - 49s 46ms/step - loss: 0.8256\n",
      "Epoch 7/10\n",
      "1078/1078 [==============================] - 50s 46ms/step - loss: 0.8244\n",
      "Epoch 8/10\n",
      "1078/1078 [==============================] - 49s 46ms/step - loss: 0.8235\n",
      "Epoch 9/10\n",
      "1078/1078 [==============================] - 50s 47ms/step - loss: 0.8225\n",
      "Epoch 10/10\n",
      "1078/1078 [==============================] - 61s 56ms/step - loss: 0.8215\n"
     ]
    },
    {
     "data": {
      "text/plain": [
       "<keras.callbacks.History at 0x7fd9626f2f90>"
      ]
     },
     "execution_count": 11,
     "metadata": {},
     "output_type": "execute_result"
    }
   ],
   "source": [
    "def create_model_nn():\n",
    "  model = Sequential([\n",
    "      Dense(512, activation='relu'),\n",
    "      Dropout(0.5),\n",
    "      Dense(512, activation='relu'),\n",
    "      Dropout(0.5),\n",
    "      Dense(256, activation='relu'),\n",
    "      Dense(1)\n",
    "  ])\n",
    "\n",
    "  model.compile(loss='mean_squared_error', optimizer='adam')\n",
    "  return model\n",
    "\n",
    "nn = create_model_nn()\n",
    "nn.fit(X, Y, epochs=10, batch_size=1024)"
   ]
  },
  {
   "cell_type": "markdown",
   "id": "2dcf6890",
   "metadata": {
    "papermill": {
     "duration": 1.92626,
     "end_time": "2022-02-10T13:54:44.981441",
     "exception": false,
     "start_time": "2022-02-10T13:54:43.055181",
     "status": "completed"
    },
    "tags": []
   },
   "source": [
    "# Submission"
   ]
  },
  {
   "cell_type": "code",
   "execution_count": 12,
   "id": "8193b2f8",
   "metadata": {
    "execution": {
     "iopub.execute_input": "2022-02-10T13:54:48.751543Z",
     "iopub.status.busy": "2022-02-10T13:54:48.750867Z",
     "iopub.status.idle": "2022-02-10T13:54:49.121076Z",
     "shell.execute_reply": "2022-02-10T13:54:49.120319Z"
    },
    "papermill": {
     "duration": 2.221681,
     "end_time": "2022-02-10T13:54:49.121228",
     "exception": false,
     "start_time": "2022-02-10T13:54:46.899547",
     "status": "completed"
    },
    "tags": []
   },
   "outputs": [
    {
     "data": {
      "text/plain": [
       "836"
      ]
     },
     "execution_count": 12,
     "metadata": {},
     "output_type": "execute_result"
    }
   ],
   "source": [
    "del X, Y\n",
    "gc.collect()"
   ]
  },
  {
   "cell_type": "code",
   "execution_count": 13,
   "id": "e84b3f28",
   "metadata": {
    "execution": {
     "iopub.execute_input": "2022-02-10T13:54:52.929897Z",
     "iopub.status.busy": "2022-02-10T13:54:52.929157Z",
     "iopub.status.idle": "2022-02-10T13:54:53.552321Z",
     "shell.execute_reply": "2022-02-10T13:54:53.551555Z"
    },
    "papermill": {
     "duration": 2.497823,
     "end_time": "2022-02-10T13:54:53.552471",
     "exception": false,
     "start_time": "2022-02-10T13:54:51.054648",
     "status": "completed"
    },
    "tags": []
   },
   "outputs": [
    {
     "name": "stdout",
     "output_type": "stream",
     "text": [
      "This version of the API is not optimized and should not be used to estimate the runtime of your code on the hidden test set.\n"
     ]
    }
   ],
   "source": [
    "import ubiquant\n",
    "env = ubiquant.make_env()\n",
    "iter_test = env.iter_test()\n",
    "for (test_df, sample_prediction_df) in iter_test:\n",
    "    test_df['time_id'] = test_df['row_id'].apply(lambda x: int(x.split('_')[0]))\n",
    "    X_test = test_df[features].values\n",
    "    X_test_pca = pca.transform(X_test)\n",
    "    preds_lr = lr.predict(X_test_pca)\n",
    "    preds_gb = gb.predict(X_test)\n",
    "    preds_nn = nn.predict(X_test)[:,0]\n",
    "    preds = (preds_lr + preds_gb + preds_nn)/3.\n",
    "    sample_prediction_df['target'] = preds\n",
    "    env.predict(sample_prediction_df)"
   ]
  }
 ],
 "metadata": {
  "kernelspec": {
   "display_name": "Python 3",
   "language": "python",
   "name": "python3"
  },
  "language_info": {
   "codemirror_mode": {
    "name": "ipython",
    "version": 3
   },
   "file_extension": ".py",
   "mimetype": "text/x-python",
   "name": "python",
   "nbconvert_exporter": "python",
   "pygments_lexer": "ipython3",
   "version": "3.7.12"
  },
  "papermill": {
   "default_parameters": {},
   "duration": 722.808305,
   "end_time": "2022-02-10T13:54:58.749053",
   "environment_variables": {},
   "exception": null,
   "input_path": "__notebook__.ipynb",
   "output_path": "__notebook__.ipynb",
   "parameters": {},
   "start_time": "2022-02-10T13:42:55.940748",
   "version": "2.3.3"
  }
 },
 "nbformat": 4,
 "nbformat_minor": 5
}
